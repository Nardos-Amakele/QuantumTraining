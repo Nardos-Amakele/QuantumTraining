{
  "nbformat": 4,
  "nbformat_minor": 0,
  "metadata": {
    "colab": {
      "provenance": [],
      "authorship_tag": "ABX9TyMU6w0AvXwONHz8qKdRG7H+",
      "include_colab_link": true
    },
    "kernelspec": {
      "name": "python3",
      "display_name": "Python 3"
    },
    "language_info": {
      "name": "python"
    }
  },
  "cells": [
    {
      "cell_type": "markdown",
      "metadata": {
        "id": "view-in-github",
        "colab_type": "text"
      },
      "source": [
        "<a href=\"https://colab.research.google.com/github/Nardos-Amakele/QuantumTraining/blob/main/Quantum.ipynb\" target=\"_parent\"><img src=\"https://colab.research.google.com/assets/colab-badge.svg\" alt=\"Open In Colab\"/></a>"
      ]
    },
    {
      "cell_type": "code",
      "source": [
        "!pip install qiskit\n",
        "!pip install qiskit-aer"
      ],
      "metadata": {
        "colab": {
          "base_uri": "https://localhost:8080/"
        },
        "collapsed": true,
        "id": "KCN88AT-n7qb",
        "outputId": "deef7835-8ed2-42d7-fda6-2e93d2256bfc"
      },
      "execution_count": 1,
      "outputs": [
        {
          "output_type": "stream",
          "name": "stdout",
          "text": [
            "Collecting qiskit\n",
            "  Downloading qiskit-2.0.0-cp39-abi3-manylinux_2_17_x86_64.manylinux2014_x86_64.whl.metadata (12 kB)\n",
            "Collecting rustworkx>=0.15.0 (from qiskit)\n",
            "  Downloading rustworkx-0.16.0-cp39-abi3-manylinux_2_17_x86_64.manylinux2014_x86_64.whl.metadata (10 kB)\n",
            "Requirement already satisfied: numpy<3,>=1.17 in /usr/local/lib/python3.11/dist-packages (from qiskit) (2.0.2)\n",
            "Requirement already satisfied: scipy>=1.5 in /usr/local/lib/python3.11/dist-packages (from qiskit) (1.14.1)\n",
            "Requirement already satisfied: sympy>=1.3 in /usr/local/lib/python3.11/dist-packages (from qiskit) (1.13.1)\n",
            "Collecting dill>=0.3 (from qiskit)\n",
            "  Downloading dill-0.3.9-py3-none-any.whl.metadata (10 kB)\n",
            "Requirement already satisfied: python-dateutil>=2.8.0 in /usr/local/lib/python3.11/dist-packages (from qiskit) (2.8.2)\n",
            "Collecting stevedore>=3.0.0 (from qiskit)\n",
            "  Downloading stevedore-5.4.1-py3-none-any.whl.metadata (2.3 kB)\n",
            "Requirement already satisfied: typing-extensions in /usr/local/lib/python3.11/dist-packages (from qiskit) (4.13.1)\n",
            "Collecting symengine<0.14,>=0.11 (from qiskit)\n",
            "  Downloading symengine-0.13.0-cp311-cp311-manylinux_2_17_x86_64.manylinux2014_x86_64.whl.metadata (1.2 kB)\n",
            "Requirement already satisfied: six>=1.5 in /usr/local/lib/python3.11/dist-packages (from python-dateutil>=2.8.0->qiskit) (1.17.0)\n",
            "Collecting pbr>=2.0.0 (from stevedore>=3.0.0->qiskit)\n",
            "  Downloading pbr-6.1.1-py2.py3-none-any.whl.metadata (3.4 kB)\n",
            "Requirement already satisfied: mpmath<1.4,>=1.1.0 in /usr/local/lib/python3.11/dist-packages (from sympy>=1.3->qiskit) (1.3.0)\n",
            "Requirement already satisfied: setuptools in /usr/local/lib/python3.11/dist-packages (from pbr>=2.0.0->stevedore>=3.0.0->qiskit) (75.2.0)\n",
            "Downloading qiskit-2.0.0-cp39-abi3-manylinux_2_17_x86_64.manylinux2014_x86_64.whl (6.5 MB)\n",
            "\u001b[2K   \u001b[90m━━━━━━━━━━━━━━━━━━━━━━━━━━━━━━━━━━━━━━━━\u001b[0m \u001b[32m6.5/6.5 MB\u001b[0m \u001b[31m51.0 MB/s\u001b[0m eta \u001b[36m0:00:00\u001b[0m\n",
            "\u001b[?25hDownloading dill-0.3.9-py3-none-any.whl (119 kB)\n",
            "\u001b[2K   \u001b[90m━━━━━━━━━━━━━━━━━━━━━━━━━━━━━━━━━━━━━━━━\u001b[0m \u001b[32m119.4/119.4 kB\u001b[0m \u001b[31m8.8 MB/s\u001b[0m eta \u001b[36m0:00:00\u001b[0m\n",
            "\u001b[?25hDownloading rustworkx-0.16.0-cp39-abi3-manylinux_2_17_x86_64.manylinux2014_x86_64.whl (2.1 MB)\n",
            "\u001b[2K   \u001b[90m━━━━━━━━━━━━━━━━━━━━━━━━━━━━━━━━━━━━━━━━\u001b[0m \u001b[32m2.1/2.1 MB\u001b[0m \u001b[31m69.2 MB/s\u001b[0m eta \u001b[36m0:00:00\u001b[0m\n",
            "\u001b[?25hDownloading stevedore-5.4.1-py3-none-any.whl (49 kB)\n",
            "\u001b[2K   \u001b[90m━━━━━━━━━━━━━━━━━━━━━━━━━━━━━━━━━━━━━━━━\u001b[0m \u001b[32m49.5/49.5 kB\u001b[0m \u001b[31m3.4 MB/s\u001b[0m eta \u001b[36m0:00:00\u001b[0m\n",
            "\u001b[?25hDownloading symengine-0.13.0-cp311-cp311-manylinux_2_17_x86_64.manylinux2014_x86_64.whl (49.7 MB)\n",
            "\u001b[2K   \u001b[90m━━━━━━━━━━━━━━━━━━━━━━━━━━━━━━━━━━━━━━━━\u001b[0m \u001b[32m49.7/49.7 MB\u001b[0m \u001b[31m18.5 MB/s\u001b[0m eta \u001b[36m0:00:00\u001b[0m\n",
            "\u001b[?25hDownloading pbr-6.1.1-py2.py3-none-any.whl (108 kB)\n",
            "\u001b[2K   \u001b[90m━━━━━━━━━━━━━━━━━━━━━━━━━━━━━━━━━━━━━━━━\u001b[0m \u001b[32m109.0/109.0 kB\u001b[0m \u001b[31m7.9 MB/s\u001b[0m eta \u001b[36m0:00:00\u001b[0m\n",
            "\u001b[?25hInstalling collected packages: symengine, rustworkx, pbr, dill, stevedore, qiskit\n",
            "Successfully installed dill-0.3.9 pbr-6.1.1 qiskit-2.0.0 rustworkx-0.16.0 stevedore-5.4.1 symengine-0.13.0\n",
            "Collecting qiskit-aer\n",
            "  Downloading qiskit_aer-0.17.0-cp311-cp311-manylinux_2_17_x86_64.manylinux2014_x86_64.whl.metadata (8.2 kB)\n",
            "Requirement already satisfied: qiskit>=1.1.0 in /usr/local/lib/python3.11/dist-packages (from qiskit-aer) (2.0.0)\n",
            "Requirement already satisfied: numpy>=1.16.3 in /usr/local/lib/python3.11/dist-packages (from qiskit-aer) (2.0.2)\n",
            "Requirement already satisfied: scipy>=1.0 in /usr/local/lib/python3.11/dist-packages (from qiskit-aer) (1.14.1)\n",
            "Requirement already satisfied: psutil>=5 in /usr/local/lib/python3.11/dist-packages (from qiskit-aer) (5.9.5)\n",
            "Requirement already satisfied: rustworkx>=0.15.0 in /usr/local/lib/python3.11/dist-packages (from qiskit>=1.1.0->qiskit-aer) (0.16.0)\n",
            "Requirement already satisfied: sympy>=1.3 in /usr/local/lib/python3.11/dist-packages (from qiskit>=1.1.0->qiskit-aer) (1.13.1)\n",
            "Requirement already satisfied: dill>=0.3 in /usr/local/lib/python3.11/dist-packages (from qiskit>=1.1.0->qiskit-aer) (0.3.9)\n",
            "Requirement already satisfied: python-dateutil>=2.8.0 in /usr/local/lib/python3.11/dist-packages (from qiskit>=1.1.0->qiskit-aer) (2.8.2)\n",
            "Requirement already satisfied: stevedore>=3.0.0 in /usr/local/lib/python3.11/dist-packages (from qiskit>=1.1.0->qiskit-aer) (5.4.1)\n",
            "Requirement already satisfied: typing-extensions in /usr/local/lib/python3.11/dist-packages (from qiskit>=1.1.0->qiskit-aer) (4.13.1)\n",
            "Requirement already satisfied: symengine<0.14,>=0.11 in /usr/local/lib/python3.11/dist-packages (from qiskit>=1.1.0->qiskit-aer) (0.13.0)\n",
            "Requirement already satisfied: six>=1.5 in /usr/local/lib/python3.11/dist-packages (from python-dateutil>=2.8.0->qiskit>=1.1.0->qiskit-aer) (1.17.0)\n",
            "Requirement already satisfied: pbr>=2.0.0 in /usr/local/lib/python3.11/dist-packages (from stevedore>=3.0.0->qiskit>=1.1.0->qiskit-aer) (6.1.1)\n",
            "Requirement already satisfied: mpmath<1.4,>=1.1.0 in /usr/local/lib/python3.11/dist-packages (from sympy>=1.3->qiskit>=1.1.0->qiskit-aer) (1.3.0)\n",
            "Requirement already satisfied: setuptools in /usr/local/lib/python3.11/dist-packages (from pbr>=2.0.0->stevedore>=3.0.0->qiskit>=1.1.0->qiskit-aer) (75.2.0)\n",
            "Downloading qiskit_aer-0.17.0-cp311-cp311-manylinux_2_17_x86_64.manylinux2014_x86_64.whl (12.4 MB)\n",
            "\u001b[2K   \u001b[90m━━━━━━━━━━━━━━━━━━━━━━━━━━━━━━━━━━━━━━━━\u001b[0m \u001b[32m12.4/12.4 MB\u001b[0m \u001b[31m79.6 MB/s\u001b[0m eta \u001b[36m0:00:00\u001b[0m\n",
            "\u001b[?25hInstalling collected packages: qiskit-aer\n",
            "Successfully installed qiskit-aer-0.17.0\n"
          ]
        }
      ]
    },
    {
      "cell_type": "markdown",
      "source": [
        "Task 1: Forced Superposition\n",
        "Create a circuit with 2 qubits where\n",
        "\n",
        "Qubit 0 is in state |+⟩ (superposition of |0⟩ and |1⟩).\n",
        "\n",
        "Qubit 1 is in state |1⟩.\n",
        "\n",
        "Entangle them so that measuring Qubit 0 always gives the opposite result of Qubit 1.\n",
        "\n",
        "Verify with 1000 shots and plot the counts.\n",
        "\n",
        "Hint: Use H, CX, and X gates."
      ],
      "metadata": {
        "id": "MY-mnE-KoCoh"
      }
    },
    {
      "cell_type": "markdown",
      "source": [
        "\n",
        "\n",
        "---\n",
        "\n",
        "\n",
        "\n",
        "TASK 1: FORCED SUPERPOSITION\n",
        "Goal: Create none correlated measurements using entanglement\n",
        "\n",
        "Idea:\n",
        "1. Qubit 0 starts in |+⟩ using the H-gate (superposition of |0⟩ and |1⟩)\n",
        "2. Qubit 1 starts in |1⟩ using the X-gate\n",
        "3. Implement entanglment using the CX(control=0, target=1)\n",
        "   - This  will make sure the results are always oposite\n",
        "   \n",
        "Result:\n",
        "- The result should be '01' and '10'.\n",
        "- Should never show '00' or '11'. This would mean the entanglment has failed.\n"
      ],
      "metadata": {
        "id": "Rfr1iKPZvrZV"
      }
    },
    {
      "cell_type": "code",
      "source": [
        "import qiskit\n",
        "from qiskit.visualization import plot_histogram\n",
        "from qiskit_aer.primitives import SamplerV2\n",
        "\n",
        "# Create the Circuit with 2 qubits\n",
        "# Then create qubit 0 and 1 with states in |+⟩ and |1⟩ respectively\n",
        "# Entangled the qubits\n",
        "# Visualaize the circuit\n",
        "circ = qiskit.QuantumCircuit(2)\n",
        "circ.h(0)\n",
        "circ.x(1)\n",
        "circ.cx(0, 1)\n",
        "circ.measure_all()\n",
        "circ.draw()"
      ],
      "metadata": {
        "colab": {
          "base_uri": "https://localhost:8080/",
          "height": 125
        },
        "id": "6-yvz_W5oDcz",
        "outputId": "3cab41f1-873e-47fd-d17e-8c38ef8e892b"
      },
      "execution_count": 5,
      "outputs": [
        {
          "output_type": "execute_result",
          "data": {
            "text/plain": [
              "        ┌───┐      ░ ┌─┐   \n",
              "   q_0: ┤ H ├──■───░─┤M├───\n",
              "        ├───┤┌─┴─┐ ░ └╥┘┌─┐\n",
              "   q_1: ┤ X ├┤ X ├─░──╫─┤M├\n",
              "        └───┘└───┘ ░  ║ └╥┘\n",
              "meas: 2/══════════════╩══╩═\n",
              "                      0  1 "
            ],
            "text/html": [
              "<pre style=\"word-wrap: normal;white-space: pre;background: #fff0;line-height: 1.1;font-family: &quot;Courier New&quot;,Courier,monospace\">        ┌───┐      ░ ┌─┐   \n",
              "   q_0: ┤ H ├──■───░─┤M├───\n",
              "        ├───┤┌─┴─┐ ░ └╥┘┌─┐\n",
              "   q_1: ┤ X ├┤ X ├─░──╫─┤M├\n",
              "        └───┘└───┘ ░  ║ └╥┘\n",
              "meas: 2/══════════════╩══╩═\n",
              "                      0  1 </pre>"
            ]
          },
          "metadata": {},
          "execution_count": 5
        }
      ]
    },
    {
      "cell_type": "code",
      "source": [
        "import matplotlib.pyplot as plt\n",
        "sampler = SamplerV2()\n",
        "job = sampler.run([circ], shots=1000)\n",
        "# Get the result and visualize them verifying with 1000 shots as per the task.\n",
        "\n",
        "result_ideal = job.result()\n",
        "counts_ideal = result_ideal[0].data.meas.get_counts()\n",
        "print('Counts(ideal):', counts_ideal)\n",
        "plot_histogram(counts_ideal)"
      ],
      "metadata": {
        "colab": {
          "base_uri": "https://localhost:8080/",
          "height": 504
        },
        "id": "MQXEd6UWoJh9",
        "outputId": "5648e8a6-db69-4d46-fcbc-4edc91b965e3"
      },
      "execution_count": 6,
      "outputs": [
        {
          "output_type": "stream",
          "name": "stdout",
          "text": [
            "Counts(ideal): {'10': 476, '01': 524}\n"
          ]
        },
        {
          "output_type": "execute_result",
          "data": {
            "text/plain": [
              "<Figure size 640x480 with 1 Axes>"
            ],
            "image/png": "[encoded data removed]"
          },
          "metadata": {},
          "execution_count": 6
        }
      ]
    },
    {
      "cell_type": "markdown",
      "source": [
        "Task 2: Entanglement Witness\n",
        "Build a circuit to test if two qubits are entangled:\n",
        "\n",
        "Prepare a Bell state (|00⟩ + |11⟩)/√2.\n",
        "\n",
        "Add a probabilistic error: With 20% chance, apply an X gate to one qubit.\n",
        "\n",
        "Measure just one qubit 1000 times. Is the output random (50/50)? If not, the qubits are no longer entangled.\n",
        "\n",
        "Goal: Show that entanglement breaks if you modify one qubit."
      ],
      "metadata": {
        "id": "AVOaMz6WoOEo"
      }
    },
    {
      "cell_type": "markdown",
      "source": [
        "\n",
        "\n",
        "---\n",
        "\n",
        "\n",
        "TASK 1:  ENTANGLEMENT WITNESS\n",
        "Goal: Create linked qubits (Bell state) using H + CX gates and add a 20% chance to break the link (with an X gate).\n",
        "\n",
        "Idea:\n",
        "1. Linked (entangled): Measurements random (50% 0, 50% 1).\n",
        "2. Broken (error): not 50/50.\n",
        "   \n",
        "Result:\n",
        "- ({'11': 489, '00': 511}).\n",
        "- Still linked! (Perfect 50/50 split). No error.\n",
        "\n"
      ],
      "metadata": {
        "id": "sgH16S-bw8kr"
      }
    },
    {
      "cell_type": "code",
      "source": [
        "import qiskit\n",
        "import numpy as np\n",
        "from qiskit.visualization import plot_histogram\n",
        "from qiskit_aer.primitives import SamplerV2\n",
        "\n",
        "# Create a Quantum Circuit with 2 qubits\n",
        "# Preparing a Bell state and applying X gate with 20% probability\n",
        "circ = qiskit.QuantumCircuit(2)\n",
        "\n",
        "circ.h(0)\n",
        "circ.cx(0, 1)\n",
        "if np.random.rand() < 0.2:\n",
        "    circ.x(0)\n",
        "\n",
        "circ.measure_all()\n",
        "circ.draw()"
      ],
      "metadata": {
        "colab": {
          "base_uri": "https://localhost:8080/",
          "height": 125
        },
        "id": "eD7SF3mkoO0D",
        "outputId": "cf70fc95-2804-4956-fd47-a8c9dc5a9b12"
      },
      "execution_count": 4,
      "outputs": [
        {
          "output_type": "execute_result",
          "data": {
            "text/plain": [
              "        ┌───┐      ░ ┌─┐   \n",
              "   q_0: ┤ H ├──■───░─┤M├───\n",
              "        └───┘┌─┴─┐ ░ └╥┘┌─┐\n",
              "   q_1: ─────┤ X ├─░──╫─┤M├\n",
              "             └───┘ ░  ║ └╥┘\n",
              "meas: 2/══════════════╩══╩═\n",
              "                      0  1 "
            ],
            "text/html": [
              "<pre style=\"word-wrap: normal;white-space: pre;background: #fff0;line-height: 1.1;font-family: &quot;Courier New&quot;,Courier,monospace\">        ┌───┐      ░ ┌─┐   \n",
              "   q_0: ┤ H ├──■───░─┤M├───\n",
              "        └───┘┌─┴─┐ ░ └╥┘┌─┐\n",
              "   q_1: ─────┤ X ├─░──╫─┤M├\n",
              "             └───┘ ░  ║ └╥┘\n",
              "meas: 2/══════════════╩══╩═\n",
              "                      0  1 </pre>"
            ]
          },
          "metadata": {},
          "execution_count": 4
        }
      ]
    },
    {
      "cell_type": "code",
      "source": [
        "sampler = SamplerV2()\n",
        "job = sampler.run([circ], shots=1000)\n",
        "\n",
        "# Get the result and visualize\n",
        "result_ideal = job.result()\n",
        "counts_ideal = result_ideal[0].data.meas.get_counts()\n",
        "\n",
        "print('Counts(ideal):', counts_ideal)\n",
        "plot_histogram(counts_ideal)"
      ],
      "metadata": {
        "colab": {
          "base_uri": "https://localhost:8080/",
          "height": 504
        },
        "id": "w16XeeKsoVf7",
        "outputId": "6e12478b-db65-41fb-9472-9ac8a697f2c5"
      },
      "execution_count": 5,
      "outputs": [
        {
          "output_type": "stream",
          "name": "stdout",
          "text": [
            "Counts(ideal): {'11': 489, '00': 511}\n"
          ]
        },
        {
          "output_type": "execute_result",
          "data": {
            "text/plain": [
              "<Figure size 640x480 with 1 Axes>"
            ],
            "image/png": "[encoded data removed]"
          },
          "metadata": {},
          "execution_count": 5
        }
      ]
    },
    {
      "cell_type": "markdown",
      "source": [
        "Task 3: Opposite-Measurement Entanglement\n",
        "Goal: Create a circuit where two qubits are entangled such that measuring one always gives the opposite result of the other (e.g., if Qubit 0 is 0, Qubit 1 must be 1, and vice versa).\n",
        "\n",
        "Expected Output\n",
        "\n",
        "After 1000 shots, the histogram should show only 01 and 10 (never 00 or 11)."
      ],
      "metadata": {
        "id": "268bqsjroZIh"
      }
    },
    {
      "cell_type": "markdown",
      "source": [
        "\n",
        "\n",
        "---\n",
        "\n",
        "\n",
        "TASK 3: OPPOSITE-MEASUREMENT VALIDATION\n",
        "\n",
        "Goal: Verify perfect anti-correlation\n",
        "\n",
        "Idea:\n",
        "1. Similar to task 1:\n",
        "   - CX(1,0) creates opposite states\n",
        "2. Measurement certainty:\n",
        "   - P(00) = P(11) = 0 (proof of entanglement)\n",
        "   - P(01) = P(10) = 0.5\n",
        "\n",
        "Result:\n",
        "- No 00/11 outcomes are expected\n",
        "- 00/11 results show implementation error\n"
      ],
      "metadata": {
        "id": "qa3iXcHN0ZSH"
      }
    },
    {
      "cell_type": "code",
      "source": [
        "import qiskit\n",
        "from qiskit.visualization import plot_histogram\n",
        "from qiskit_aer.primitives import SamplerV2\n",
        "import matplotlib.pyplot as plt\n",
        "# Create the Circuit with 2 qubits\n",
        "# Then create qubit 0 and 1 with states in |+⟩ and |1⟩ respectively\n",
        "# Entangled the qubits\n",
        "# Visualaize the circuit\n",
        "\n",
        "circ = qiskit.QuantumCircuit(2)\n",
        "circ.h(0)\n",
        "circ.x(1)\n",
        "circ.cx(0, 1)\n",
        "circ.measure_all()\n",
        "circ.draw()\n",
        "\n",
        "sampler = SamplerV2()\n",
        "job = sampler.run([circ], shots=1000)\n",
        "result_ideal = job.result()\n",
        "counts_ideal = result_ideal[0].data.meas.get_counts()\n",
        "print('Counts(ideal):', counts_ideal)\n",
        "plot_histogram(counts_ideal)"
      ],
      "metadata": {
        "colab": {
          "base_uri": "https://localhost:8080/",
          "height": 504
        },
        "id": "dGaP79hRocDA",
        "outputId": "507595c2-aefc-42b5-c49f-902e3b47d011"
      },
      "execution_count": 10,
      "outputs": [
        {
          "output_type": "stream",
          "name": "stdout",
          "text": [
            "Counts(ideal): {'10': 499, '01': 501}\n"
          ]
        },
        {
          "output_type": "execute_result",
          "data": {
            "text/plain": [
              "<Figure size 640x480 with 1 Axes>"
            ],
            "image/png": "[encoded data removed]"
          },
          "metadata": {},
          "execution_count": 10
        }
      ]
    },
    {
      "cell_type": "markdown",
      "source": [
        "Task 4: Quantum Coin Flip Game\n",
        "Simulate a game where:\n",
        "\n",
        "Alice prepares a qubit in |+⟩ and sends it to Bob.\n",
        "\n",
        "Bob randomly chooses to measure it in the X-basis (|+⟩/|-⟩) or Z-basis (|0⟩/|1⟩).\n",
        "\n",
        "If Bob measures |+⟩ or |0⟩, he wins; else, Alice wins.\n",
        "\n",
        "Run 500 trials and calculate the win rates.\n",
        "\n",
        "Twist: Let Bob entangle his measurement choice with another qubit. Does this change the odds?"
      ],
      "metadata": {
        "id": "VjtwCGgEohOz"
      }
    },
    {
      "cell_type": "markdown",
      "source": [
        "\n",
        "\n",
        "---\n",
        "\n",
        "\n",
        "TASK 4: QUANTUM COIN FLIP SIMULATION\n",
        "\n",
        "Goal: Demonstrate basis-choice dependence in measurements\n",
        "\n",
        "Idea:\n",
        "1. Alice prepares |+⟩ = (|0⟩ + |1⟩)/√2\n",
        "2. Bob's choice affects outcomes:\n",
        "   - X-basis measurement (H-gate): Wins on |+⟩ (always)\n",
        "   - Z-basis measurement: 50% win chance\n",
        "3. Twist:\n",
        "   - Bob's choice qubit entangles with measurement qubit\n",
        "   - Creates quantum correlation between choice and outcome\n",
        "\n",
        "Result:\n",
        "- Without entanglement: ~75% Bob win rate\n",
        "- With entanglement: Altered probabilities (quantum advantage)\n"
      ],
      "metadata": {
        "id": "wzCisY5M2dy_"
      }
    },
    {
      "cell_type": "code",
      "source": [
        "import qiskit\n",
        "from qiskit.visualization import plot_histogram\n",
        "from qiskit_aer.primitives import SamplerV2\n",
        "import matplotlib.pyplot as plt\n",
        "import random\n",
        "\n",
        "# Create a Quantum Circuit with 2 qubits\n",
        "# Alice has a qubit in |+⟩ state\n",
        "# Bob randomly chooses to measure in X-basis or Z-basis\n",
        "# Visualize\n",
        "\n",
        "circ = qiskit.QuantumCircuit(2)\n",
        "circ.h(0)\n",
        "\n",
        "if random.choice(['X', 'Z']) == 'X':\n",
        "    circ.h(0)\n",
        "circ.measure_all()\n",
        "circ.draw()\n",
        "sampler = SamplerV2()\n",
        "job = sampler.run([circ], shots=500)\n",
        "result_ideal = job.result()\n",
        "counts_ideal = result_ideal[0].data.meas.get_counts()\n",
        "\n",
        "print('Counts(ideal):', counts_ideal)\n",
        "plot_histogram(counts_ideal)\n",
        "plt.show()\n",
        "\n",
        "# Calculate win rates based on measurement basis and outcome\n",
        "bob_wins = counts_ideal.get('00', 0)  # Count when Bob measures 0\n",
        "alice_wins = counts_ideal.get('01', 0) + counts_ideal.get('10', 0) + counts_ideal.get('11', 0)\n",
        "print(f\"Bob's win : {bob_wins / 500 * 100:.2f}%\")\n",
        "print(f\"Alice's win : {alice_wins / 500 * 100:.2f}%\")"
      ],
      "metadata": {
        "colab": {
          "base_uri": "https://localhost:8080/"
        },
        "id": "P-4StIAlokmN",
        "outputId": "56061bf6-5336-4cf3-bc6d-c793eb0697f4"
      },
      "execution_count": 8,
      "outputs": [
        {
          "output_type": "stream",
          "name": "stdout",
          "text": [
            "Counts(ideal): {'00': 500}\n",
            "Bob's win : 100.00%\n",
            "Alice's win : 0.00%\n"
          ]
        }
      ]
    },
    {
      "cell_type": "markdown",
      "source": [
        "Essay Question\n",
        "\n",
        "Explain how entanglement and superposition enable quantum speedups, using examples from the tasks above (e.g., Task 1’s forced superposition or Task 2’s Bell state). Why can’t classical systems replicate this behavior?"
      ],
      "metadata": {
        "id": "IZP0D2jFEOQq"
      }
    },
    {
      "cell_type": "markdown",
      "source": [],
      "metadata": {
        "id": "wGzn7mYqosK4"
      }
    },
    {
      "cell_type": "markdown",
      "source": [
        "Quantum speedups come from two main ideas I used in this task. In Task 1, I employed superposition to put a qubit into the state |+⟩, so that it could go to both 0 and 1 at the same time. Then, in Task 2, There was entanglement using the Bell state, where one qubit's change would affect the other, which classical bits are not capable of doing.\n",
        "\n",
        "Classical computers do one state at a time. They look at each possibility independently. On the other hand, Quantum systems can use superposition to perform many states simultaneously and use entanglement qubits so that their fates are tied together. Taking these multiple related states at the same time is where quantum computing's ability comes from. For example, in the Bell state, measurements were perfectly correlated, while classical bits would need explicit communication to perform something similar.\n",
        "\n",
        "These quantum effects cannot be done in classical systems because they go against the laws of classical physics. classical systems cannot be in more than one state at a time or be connected instantaneously across space."
      ],
      "metadata": {
        "id": "YdW3nP2vl4Pn"
      }
    }
  ]
}